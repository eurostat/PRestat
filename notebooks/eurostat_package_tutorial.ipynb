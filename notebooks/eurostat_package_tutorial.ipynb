{
 "cells": [
  {
   "cell_type": "markdown",
   "metadata": {},
   "source": [
    "In this notebook, we simply reproduce the examples presented in the paper [_\"Retrieval and analysis of Eurostat open data with the eurostat package\"_](https://journal.r-project.org/archive/2017/RJ-2017-019/RJ-2017-019.pdf) by L. Lahti, P. Biecek, M. Kainu and J. Huovari (_R Journal_ 9(1):385-392, 2017). See also this online [tutorial](https://rdrr.io/cran/eurostat/f/inst/doc/eurostat_tutorial.pdf) on `eurostat` package. "
   ]
  },
  {
   "cell_type": "code",
   "execution_count": 13,
   "metadata": {},
   "outputs": [
    {
     "ename": "ERROR",
     "evalue": "Error in library(\"ggrepel\"): there is no package called ‘ggrepel’\n",
     "output_type": "error",
     "traceback": [
      "Error in library(\"ggrepel\"): there is no package called ‘ggrepel’\nTraceback:\n",
      "1. library(\"ggrepel\")",
      "2. stop(txt, domain = NA)"
     ]
    }
   ],
   "source": [
    "library(\"eurostat\")"
   ]
  },
  {
   "cell_type": "markdown",
   "metadata": {},
   "source": [
    "### Finding data"
   ]
  },
  {
   "cell_type": "code",
   "execution_count": 30,
   "metadata": {
    "scrolled": true
   },
   "outputs": [
    {
     "data": {
      "text/html": [
       "<table>\n",
       "<thead><tr><th scope=col>title</th><th scope=col>code</th><th scope=col>type</th><th scope=col>last update of data</th><th scope=col>last table structure change</th><th scope=col>data start</th><th scope=col>data end</th><th scope=col>values</th></tr></thead>\n",
       "<tbody>\n",
       "\t<tr><td>Database by themes                                      </td><td>data                                                    </td><td>folder                                                  </td><td>NA                                                      </td><td>NA                                                      </td><td>NA                                                      </td><td>NA                                                      </td><td>NA                                                      </td></tr>\n",
       "\t<tr><td>General and regional statistics                         </td><td>general                                                 </td><td>folder                                                  </td><td>NA                                                      </td><td>NA                                                      </td><td>NA                                                      </td><td>NA                                                      </td><td>NA                                                      </td></tr>\n",
       "\t<tr><td>European and national indicators for short-term analysis</td><td>euroind                                                 </td><td>folder                                                  </td><td>NA                                                      </td><td>NA                                                      </td><td>NA                                                      </td><td>NA                                                      </td><td>NA                                                      </td></tr>\n",
       "\t<tr><td>Business and consumer surveys (source: DG ECFIN)        </td><td>ei_bcs                                                  </td><td>folder                                                  </td><td>NA                                                      </td><td>NA                                                      </td><td>NA                                                      </td><td>NA                                                      </td><td>NA                                                      </td></tr>\n",
       "\t<tr><td>Consumer surveys (source: DG ECFIN)                     </td><td>ei_bcs_cs                                               </td><td>folder                                                  </td><td>NA                                                      </td><td>NA                                                      </td><td>NA                                                      </td><td>NA                                                      </td><td>NA                                                      </td></tr>\n",
       "\t<tr><td>Consumers - monthly data                                </td><td>ei_bsco_m                                               </td><td>dataset                                                 </td><td>30.08.2018                                              </td><td>30.08.2018                                              </td><td>1980M01                                                 </td><td>2018M08                                                 </td><td>NA                                                      </td></tr>\n",
       "</tbody>\n",
       "</table>\n"
      ],
      "text/latex": [
       "\\begin{tabular}{r|llllllll}\n",
       " title & code & type & last update of data & last table structure change & data start & data end & values\\\\\n",
       "\\hline\n",
       "\t Database by themes                                       & data                                                     & folder                                                   & NA                                                       & NA                                                       & NA                                                       & NA                                                       & NA                                                      \\\\\n",
       "\t General and regional statistics                          & general                                                  & folder                                                   & NA                                                       & NA                                                       & NA                                                       & NA                                                       & NA                                                      \\\\\n",
       "\t European and national indicators for short-term analysis & euroind                                                  & folder                                                   & NA                                                       & NA                                                       & NA                                                       & NA                                                       & NA                                                      \\\\\n",
       "\t Business and consumer surveys (source: DG ECFIN)         & ei\\_bcs                                                 & folder                                                   & NA                                                       & NA                                                       & NA                                                       & NA                                                       & NA                                                      \\\\\n",
       "\t Consumer surveys (source: DG ECFIN)                      & ei\\_bcs\\_cs                                            & folder                                                   & NA                                                       & NA                                                       & NA                                                       & NA                                                       & NA                                                      \\\\\n",
       "\t Consumers - monthly data                                 & ei\\_bsco\\_m                                            & dataset                                                  & 30.08.2018                                               & 30.08.2018                                               & 1980M01                                                  & 2018M08                                                  & NA                                                      \\\\\n",
       "\\end{tabular}\n"
      ],
      "text/markdown": [
       "\n",
       "title | code | type | last update of data | last table structure change | data start | data end | values | \n",
       "|---|---|---|---|---|---|\n",
       "| Database by themes                                       | data                                                     | folder                                                   | NA                                                       | NA                                                       | NA                                                       | NA                                                       | NA                                                       | \n",
       "| General and regional statistics                          | general                                                  | folder                                                   | NA                                                       | NA                                                       | NA                                                       | NA                                                       | NA                                                       | \n",
       "| European and national indicators for short-term analysis | euroind                                                  | folder                                                   | NA                                                       | NA                                                       | NA                                                       | NA                                                       | NA                                                       | \n",
       "| Business and consumer surveys (source: DG ECFIN)         | ei_bcs                                                   | folder                                                   | NA                                                       | NA                                                       | NA                                                       | NA                                                       | NA                                                       | \n",
       "| Consumer surveys (source: DG ECFIN)                      | ei_bcs_cs                                                | folder                                                   | NA                                                       | NA                                                       | NA                                                       | NA                                                       | NA                                                       | \n",
       "| Consumers - monthly data                                 | ei_bsco_m                                                | dataset                                                  | 30.08.2018                                               | 30.08.2018                                               | 1980M01                                                  | 2018M08                                                  | NA                                                       | \n",
       "\n",
       "\n"
      ],
      "text/plain": [
       "  title                                                    code      type   \n",
       "1 Database by themes                                       data      folder \n",
       "2 General and regional statistics                          general   folder \n",
       "3 European and national indicators for short-term analysis euroind   folder \n",
       "4 Business and consumer surveys (source: DG ECFIN)         ei_bcs    folder \n",
       "5 Consumer surveys (source: DG ECFIN)                      ei_bcs_cs folder \n",
       "6 Consumers - monthly data                                 ei_bsco_m dataset\n",
       "  last update of data last table structure change data start data end values\n",
       "1 NA                  NA                          NA         NA       NA    \n",
       "2 NA                  NA                          NA         NA       NA    \n",
       "3 NA                  NA                          NA         NA       NA    \n",
       "4 NA                  NA                          NA         NA       NA    \n",
       "5 NA                  NA                          NA         NA       NA    \n",
       "6 30.08.2018          30.08.2018                  1980M01    2018M08  NA    "
      ]
     },
     "metadata": {},
     "output_type": "display_data"
    }
   ],
   "source": [
    "toc <-get_eurostat_toc()\n",
    "head(toc)"
   ]
  },
  {
   "cell_type": "code",
   "execution_count": 31,
   "metadata": {},
   "outputs": [
    {
     "data": {
      "text/html": [
       "<table>\n",
       "<thead><tr><th scope=col>title</th><th scope=col>code</th><th scope=col>type</th><th scope=col>last update of data</th><th scope=col>last table structure change</th><th scope=col>data start</th><th scope=col>data end</th><th scope=col>values</th></tr></thead>\n",
       "<tbody>\n",
       "\t<tr><td>Volume of passenger transport relative to GDP                                                                           </td><td>tran_hv_pstra                                                                                                           </td><td>dataset                                                                                                                 </td><td>30.07.2018                                                                                                              </td><td>30.07.2018                                                                                                              </td><td>2000                                                                                                                    </td><td>2016                                                                                                                    </td><td>NA                                                                                                                      </td></tr>\n",
       "\t<tr><td>Modal split of passenger transport                                                                                      </td><td>tran_hv_psmod                                                                                                           </td><td>dataset                                                                                                                 </td><td>27.08.2018                                                                                                              </td><td>27.08.2018                                                                                                              </td><td>1990                                                                                                                    </td><td>2016                                                                                                                    </td><td>NA                                                                                                                      </td></tr>\n",
       "\t<tr><td>Railway transport - total annual passenger transport (1 000 pass., million pkm)                                         </td><td>rail_pa_total                                                                                                           </td><td>dataset                                                                                                                 </td><td>07.08.2018                                                                                                              </td><td>24.07.2018                                                                                                              </td><td>2004                                                                                                                    </td><td>2016                                                                                                                    </td><td>NA                                                                                                                      </td></tr>\n",
       "\t<tr><td>Railway transport - passenger transport by type of transport (detailed reporting only) (1 000 pass.)                    </td><td>rail_pa_typepas                                                                                                         </td><td>dataset                                                                                                                 </td><td>17.07.2018                                                                                                              </td><td>31.08.2017                                                                                                              </td><td>2004                                                                                                                    </td><td>2016                                                                                                                    </td><td>NA                                                                                                                      </td></tr>\n",
       "\t<tr><td>Railway transport - passenger transport by type of transport (detailed reporting only) (million pkm)                    </td><td>rail_pa_typepkm                                                                                                         </td><td>dataset                                                                                                                 </td><td>17.07.2018                                                                                                              </td><td>31.08.2017                                                                                                              </td><td>2004                                                                                                                    </td><td>2016                                                                                                                    </td><td>NA                                                                                                                      </td></tr>\n",
       "\t<tr><td>International railway passenger transport from the reporting country to the country of disembarkation (1 000 passengers)</td><td>rail_pa_intgong                                                                                                         </td><td>dataset                                                                                                                 </td><td>16.08.2018                                                                                                              </td><td>17.07.2018                                                                                                              </td><td>2004                                                                                                                    </td><td>2017                                                                                                                    </td><td>NA                                                                                                                      </td></tr>\n",
       "</tbody>\n",
       "</table>\n"
      ],
      "text/latex": [
       "\\begin{tabular}{r|llllllll}\n",
       " title & code & type & last update of data & last table structure change & data start & data end & values\\\\\n",
       "\\hline\n",
       "\t Volume of passenger transport relative to GDP                                                                            & tran\\_hv\\_pstra                                                                                                        & dataset                                                                                                                  & 30.07.2018                                                                                                               & 30.07.2018                                                                                                               & 2000                                                                                                                     & 2016                                                                                                                     & NA                                                                                                                      \\\\\n",
       "\t Modal split of passenger transport                                                                                       & tran\\_hv\\_psmod                                                                                                        & dataset                                                                                                                  & 27.08.2018                                                                                                               & 27.08.2018                                                                                                               & 1990                                                                                                                     & 2016                                                                                                                     & NA                                                                                                                      \\\\\n",
       "\t Railway transport - total annual passenger transport (1 000 pass., million pkm)                                          & rail\\_pa\\_total                                                                                                        & dataset                                                                                                                  & 07.08.2018                                                                                                               & 24.07.2018                                                                                                               & 2004                                                                                                                     & 2016                                                                                                                     & NA                                                                                                                      \\\\\n",
       "\t Railway transport - passenger transport by type of transport (detailed reporting only) (1 000 pass.)                     & rail\\_pa\\_typepas                                                                                                      & dataset                                                                                                                  & 17.07.2018                                                                                                               & 31.08.2017                                                                                                               & 2004                                                                                                                     & 2016                                                                                                                     & NA                                                                                                                      \\\\\n",
       "\t Railway transport - passenger transport by type of transport (detailed reporting only) (million pkm)                     & rail\\_pa\\_typepkm                                                                                                      & dataset                                                                                                                  & 17.07.2018                                                                                                               & 31.08.2017                                                                                                               & 2004                                                                                                                     & 2016                                                                                                                     & NA                                                                                                                      \\\\\n",
       "\t International railway passenger transport from the reporting country to the country of disembarkation (1 000 passengers) & rail\\_pa\\_intgong                                                                                                      & dataset                                                                                                                  & 16.08.2018                                                                                                               & 17.07.2018                                                                                                               & 2004                                                                                                                     & 2017                                                                                                                     & NA                                                                                                                      \\\\\n",
       "\\end{tabular}\n"
      ],
      "text/markdown": [
       "\n",
       "title | code | type | last update of data | last table structure change | data start | data end | values | \n",
       "|---|---|---|---|---|---|\n",
       "| Volume of passenger transport relative to GDP                                                                            | tran_hv_pstra                                                                                                            | dataset                                                                                                                  | 30.07.2018                                                                                                               | 30.07.2018                                                                                                               | 2000                                                                                                                     | 2016                                                                                                                     | NA                                                                                                                       | \n",
       "| Modal split of passenger transport                                                                                       | tran_hv_psmod                                                                                                            | dataset                                                                                                                  | 27.08.2018                                                                                                               | 27.08.2018                                                                                                               | 1990                                                                                                                     | 2016                                                                                                                     | NA                                                                                                                       | \n",
       "| Railway transport - total annual passenger transport (1 000 pass., million pkm)                                          | rail_pa_total                                                                                                            | dataset                                                                                                                  | 07.08.2018                                                                                                               | 24.07.2018                                                                                                               | 2004                                                                                                                     | 2016                                                                                                                     | NA                                                                                                                       | \n",
       "| Railway transport - passenger transport by type of transport (detailed reporting only) (1 000 pass.)                     | rail_pa_typepas                                                                                                          | dataset                                                                                                                  | 17.07.2018                                                                                                               | 31.08.2017                                                                                                               | 2004                                                                                                                     | 2016                                                                                                                     | NA                                                                                                                       | \n",
       "| Railway transport - passenger transport by type of transport (detailed reporting only) (million pkm)                     | rail_pa_typepkm                                                                                                          | dataset                                                                                                                  | 17.07.2018                                                                                                               | 31.08.2017                                                                                                               | 2004                                                                                                                     | 2016                                                                                                                     | NA                                                                                                                       | \n",
       "| International railway passenger transport from the reporting country to the country of disembarkation (1 000 passengers) | rail_pa_intgong                                                                                                          | dataset                                                                                                                  | 16.08.2018                                                                                                               | 17.07.2018                                                                                                               | 2004                                                                                                                     | 2017                                                                                                                     | NA                                                                                                                       | \n",
       "\n",
       "\n"
      ],
      "text/plain": [
       "  title                                                                                                                   \n",
       "1 Volume of passenger transport relative to GDP                                                                           \n",
       "2 Modal split of passenger transport                                                                                      \n",
       "3 Railway transport - total annual passenger transport (1 000 pass., million pkm)                                         \n",
       "4 Railway transport - passenger transport by type of transport (detailed reporting only) (1 000 pass.)                    \n",
       "5 Railway transport - passenger transport by type of transport (detailed reporting only) (million pkm)                    \n",
       "6 International railway passenger transport from the reporting country to the country of disembarkation (1 000 passengers)\n",
       "  code            type    last update of data last table structure change\n",
       "1 tran_hv_pstra   dataset 30.07.2018          30.07.2018                 \n",
       "2 tran_hv_psmod   dataset 27.08.2018          27.08.2018                 \n",
       "3 rail_pa_total   dataset 07.08.2018          24.07.2018                 \n",
       "4 rail_pa_typepas dataset 17.07.2018          31.08.2017                 \n",
       "5 rail_pa_typepkm dataset 17.07.2018          31.08.2017                 \n",
       "6 rail_pa_intgong dataset 16.08.2018          17.07.2018                 \n",
       "  data start data end values\n",
       "1 2000       2016     NA    \n",
       "2 1990       2016     NA    \n",
       "3 2004       2016     NA    \n",
       "4 2004       2016     NA    \n",
       "5 2004       2016     NA    \n",
       "6 2004       2017     NA    "
      ]
     },
     "metadata": {},
     "output_type": "display_data"
    }
   ],
   "source": [
    "head(search_eurostat(\"passenger transport\"))"
   ]
  },
  {
   "cell_type": "markdown",
   "metadata": {},
   "source": [
    "### Downloading data"
   ]
  },
  {
   "cell_type": "code",
   "execution_count": 32,
   "metadata": {},
   "outputs": [
    {
     "name": "stdout",
     "output_type": "stream",
     "text": [
      "[1] \"t2020_rk310\"\n"
     ]
    }
   ],
   "source": [
    "id <-search_eurostat(\"Modal split of passenger transport\", type =\"table\")$code[1]\n",
    "print(id)"
   ]
  },
  {
   "cell_type": "code",
   "execution_count": 20,
   "metadata": {},
   "outputs": [
    {
     "name": "stderr",
     "output_type": "stream",
     "text": [
      "Reading cache file /tmp/RtmpUWoDHX/eurostat/t2020_rk310_num_code_TF.rds\n",
      "Table  t2020_rk310  read from cache file:  /tmp/RtmpUWoDHX/eurostat/t2020_rk310_num_code_TF.rds\n"
     ]
    },
    {
     "name": "stdout",
     "output_type": "stream",
     "text": [
      "Classes ‘tbl_df’, ‘tbl’ and 'data.frame':\t2536 obs. of  5 variables:\n",
      " $ unit   : Factor w/ 1 level \"PC\": 1 1 1 1 1 1 1 1 1 1 ...\n",
      " $ vehicle: Factor w/ 3 levels \"BUS_TOT\",\"CAR\",..: 1 1 1 1 1 1 1 1 1 1 ...\n",
      " $ geo    : Factor w/ 35 levels \"AT\",\"BE\",\"CH\",..: 1 2 3 4 5 6 7 8 9 10 ...\n",
      " $ time   : num  1990 1990 1990 1990 1990 1990 1990 1990 1990 1990 ...\n",
      " $ values : num  11 10.6 3.7 9.1 11.3 32.4 14.9 13.5 6 24.8 ...\n"
     ]
    },
    {
     "data": {
      "text/html": [
       "<table>\n",
       "<thead><tr><th scope=col>unit</th><th scope=col>vehicle</th><th scope=col>geo</th><th scope=col>time</th><th scope=col>values</th></tr></thead>\n",
       "<tbody>\n",
       "\t<tr><td>PC     </td><td>BUS_TOT</td><td>AT     </td><td>1990   </td><td>11.0   </td></tr>\n",
       "\t<tr><td>PC     </td><td>BUS_TOT</td><td>BE     </td><td>1990   </td><td>10.6   </td></tr>\n",
       "\t<tr><td>PC     </td><td>BUS_TOT</td><td>CH     </td><td>1990   </td><td> 3.7   </td></tr>\n",
       "\t<tr><td>PC     </td><td>BUS_TOT</td><td>DE     </td><td>1990   </td><td> 9.1   </td></tr>\n",
       "\t<tr><td>PC     </td><td>BUS_TOT</td><td>DK     </td><td>1990   </td><td>11.3   </td></tr>\n",
       "\t<tr><td>PC     </td><td>BUS_TOT</td><td>EL     </td><td>1990   </td><td>32.4   </td></tr>\n",
       "</tbody>\n",
       "</table>\n"
      ],
      "text/latex": [
       "\\begin{tabular}{r|lllll}\n",
       " unit & vehicle & geo & time & values\\\\\n",
       "\\hline\n",
       "\t PC        & BUS\\_TOT & AT        & 1990      & 11.0     \\\\\n",
       "\t PC        & BUS\\_TOT & BE        & 1990      & 10.6     \\\\\n",
       "\t PC        & BUS\\_TOT & CH        & 1990      &  3.7     \\\\\n",
       "\t PC        & BUS\\_TOT & DE        & 1990      &  9.1     \\\\\n",
       "\t PC        & BUS\\_TOT & DK        & 1990      & 11.3     \\\\\n",
       "\t PC        & BUS\\_TOT & EL        & 1990      & 32.4     \\\\\n",
       "\\end{tabular}\n"
      ],
      "text/markdown": [
       "\n",
       "unit | vehicle | geo | time | values | \n",
       "|---|---|---|---|---|---|\n",
       "| PC      | BUS_TOT | AT      | 1990    | 11.0    | \n",
       "| PC      | BUS_TOT | BE      | 1990    | 10.6    | \n",
       "| PC      | BUS_TOT | CH      | 1990    |  3.7    | \n",
       "| PC      | BUS_TOT | DE      | 1990    |  9.1    | \n",
       "| PC      | BUS_TOT | DK      | 1990    | 11.3    | \n",
       "| PC      | BUS_TOT | EL      | 1990    | 32.4    | \n",
       "\n",
       "\n"
      ],
      "text/plain": [
       "  unit vehicle geo time values\n",
       "1 PC   BUS_TOT AT  1990 11.0  \n",
       "2 PC   BUS_TOT BE  1990 10.6  \n",
       "3 PC   BUS_TOT CH  1990  3.7  \n",
       "4 PC   BUS_TOT DE  1990  9.1  \n",
       "5 PC   BUS_TOT DK  1990 11.3  \n",
       "6 PC   BUS_TOT EL  1990 32.4  "
      ]
     },
     "metadata": {},
     "output_type": "display_data"
    }
   ],
   "source": [
    "dat <-get_eurostat(id, time_format = \"num\")\n",
    "str(dat)\n",
    "head(dat)"
   ]
  },
  {
   "cell_type": "code",
   "execution_count": 24,
   "metadata": {},
   "outputs": [
    {
     "data": {
      "text/html": [
       "<table>\n",
       "<thead><tr><th scope=col>unit</th><th scope=col>vehicle</th><th scope=col>geo</th><th scope=col>time</th><th scope=col>values</th></tr></thead>\n",
       "<tbody>\n",
       "\t<tr><td>PC     </td><td>BUS_TOT</td><td>EU28   </td><td>2016   </td><td> 9.4   </td></tr>\n",
       "\t<tr><td>PC     </td><td>BUS_TOT</td><td>FI     </td><td>2016   </td><td>11.9   </td></tr>\n",
       "\t<tr><td>PC     </td><td>CAR    </td><td>EU28   </td><td>2016   </td><td>82.9   </td></tr>\n",
       "\t<tr><td>PC     </td><td>CAR    </td><td>FI     </td><td>2016   </td><td>82.5   </td></tr>\n",
       "\t<tr><td>PC     </td><td>TRN    </td><td>EU28   </td><td>2016   </td><td> 7.7   </td></tr>\n",
       "\t<tr><td>PC     </td><td>TRN    </td><td>FI     </td><td>2016   </td><td> 5.6   </td></tr>\n",
       "</tbody>\n",
       "</table>\n"
      ],
      "text/latex": [
       "\\begin{tabular}{r|lllll}\n",
       " unit & vehicle & geo & time & values\\\\\n",
       "\\hline\n",
       "\t PC        & BUS\\_TOT & EU28      & 2016      &  9.4     \\\\\n",
       "\t PC        & BUS\\_TOT & FI        & 2016      & 11.9     \\\\\n",
       "\t PC      & CAR     & EU28    & 2016    & 82.9   \\\\\n",
       "\t PC      & CAR     & FI      & 2016    & 82.5   \\\\\n",
       "\t PC      & TRN     & EU28    & 2016    &  7.7   \\\\\n",
       "\t PC      & TRN     & FI      & 2016    &  5.6   \\\\\n",
       "\\end{tabular}\n"
      ],
      "text/markdown": [
       "\n",
       "unit | vehicle | geo | time | values | \n",
       "|---|---|---|---|---|---|\n",
       "| PC      | BUS_TOT | EU28    | 2016    |  9.4    | \n",
       "| PC      | BUS_TOT | FI      | 2016    | 11.9    | \n",
       "| PC      | CAR     | EU28    | 2016    | 82.9    | \n",
       "| PC      | CAR     | FI      | 2016    | 82.5    | \n",
       "| PC      | TRN     | EU28    | 2016    |  7.7    | \n",
       "| PC      | TRN     | FI      | 2016    |  5.6    | \n",
       "\n",
       "\n"
      ],
      "text/plain": [
       "  unit vehicle geo  time values\n",
       "1 PC   BUS_TOT EU28 2016  9.4  \n",
       "2 PC   BUS_TOT FI   2016 11.9  \n",
       "3 PC   CAR     EU28 2016 82.9  \n",
       "4 PC   CAR     FI   2016 82.5  \n",
       "5 PC   TRN     EU28 2016  7.7  \n",
       "6 PC   TRN     FI   2016  5.6  "
      ]
     },
     "metadata": {},
     "output_type": "display_data"
    }
   ],
   "source": [
    "dat2 <- get_eurostat(id, filters = list(geo = c(\"EU28\", \"FI\"), lastTimePeriod=1), time_format = \"num\")\n",
    "head(dat2)"
   ]
  },
  {
   "cell_type": "code",
   "execution_count": 25,
   "metadata": {},
   "outputs": [
    {
     "data": {
      "text/html": [
       "<table>\n",
       "<thead><tr><th scope=col>unit</th><th scope=col>vehicle</th><th scope=col>geo</th><th scope=col>time</th><th scope=col>values</th></tr></thead>\n",
       "<tbody>\n",
       "\t<tr><td>Percentage                            </td><td>Motor coaches, buses and trolley buses</td><td>European Union (current composition)  </td><td>2016                                  </td><td> 9.4                                  </td></tr>\n",
       "\t<tr><td>Percentage                            </td><td>Motor coaches, buses and trolley buses</td><td>Finland                               </td><td>2016                                  </td><td>11.9                                  </td></tr>\n",
       "\t<tr><td>Percentage                            </td><td>Passenger cars                        </td><td>European Union (current composition)  </td><td>2016                                  </td><td>82.9                                  </td></tr>\n",
       "\t<tr><td>Percentage                            </td><td>Passenger cars                        </td><td>Finland                               </td><td>2016                                  </td><td>82.5                                  </td></tr>\n",
       "\t<tr><td>Percentage                            </td><td>Trains                                </td><td>European Union (current composition)  </td><td>2016                                  </td><td> 7.7                                  </td></tr>\n",
       "\t<tr><td>Percentage                            </td><td>Trains                                </td><td>Finland                               </td><td>2016                                  </td><td> 5.6                                  </td></tr>\n",
       "</tbody>\n",
       "</table>\n"
      ],
      "text/latex": [
       "\\begin{tabular}{r|lllll}\n",
       " unit & vehicle & geo & time & values\\\\\n",
       "\\hline\n",
       "\t Percentage                             & Motor coaches, buses and trolley buses & European Union (current composition)   & 2016                                   &  9.4                                  \\\\\n",
       "\t Percentage                             & Motor coaches, buses and trolley buses & Finland                                & 2016                                   & 11.9                                  \\\\\n",
       "\t Percentage                             & Passenger cars                         & European Union (current composition)   & 2016                                   & 82.9                                  \\\\\n",
       "\t Percentage                             & Passenger cars                         & Finland                                & 2016                                   & 82.5                                  \\\\\n",
       "\t Percentage                             & Trains                                 & European Union (current composition)   & 2016                                   &  7.7                                  \\\\\n",
       "\t Percentage                             & Trains                                 & Finland                                & 2016                                   &  5.6                                  \\\\\n",
       "\\end{tabular}\n"
      ],
      "text/markdown": [
       "\n",
       "unit | vehicle | geo | time | values | \n",
       "|---|---|---|---|---|---|\n",
       "| Percentage                             | Motor coaches, buses and trolley buses | European Union (current composition)   | 2016                                   |  9.4                                   | \n",
       "| Percentage                             | Motor coaches, buses and trolley buses | Finland                                | 2016                                   | 11.9                                   | \n",
       "| Percentage                             | Passenger cars                         | European Union (current composition)   | 2016                                   | 82.9                                   | \n",
       "| Percentage                             | Passenger cars                         | Finland                                | 2016                                   | 82.5                                   | \n",
       "| Percentage                             | Trains                                 | European Union (current composition)   | 2016                                   |  7.7                                   | \n",
       "| Percentage                             | Trains                                 | Finland                                | 2016                                   |  5.6                                   | \n",
       "\n",
       "\n"
      ],
      "text/plain": [
       "  unit       vehicle                               \n",
       "1 Percentage Motor coaches, buses and trolley buses\n",
       "2 Percentage Motor coaches, buses and trolley buses\n",
       "3 Percentage Passenger cars                        \n",
       "4 Percentage Passenger cars                        \n",
       "5 Percentage Trains                                \n",
       "6 Percentage Trains                                \n",
       "  geo                                  time values\n",
       "1 European Union (current composition) 2016  9.4  \n",
       "2 Finland                              2016 11.9  \n",
       "3 European Union (current composition) 2016 82.9  \n",
       "4 Finland                              2016 82.5  \n",
       "5 European Union (current composition) 2016  7.7  \n",
       "6 Finland                              2016  5.6  "
      ]
     },
     "metadata": {},
     "output_type": "display_data"
    }
   ],
   "source": [
    "datl2 <- get_eurostat(id, filters = list(geo = c(\"EU28\", \"FI\"),lastTimePeriod = 1), type = \"label\", time_format = \"num\")\n",
    "head(datl2)"
   ]
  },
  {
   "cell_type": "code",
   "execution_count": 26,
   "metadata": {},
   "outputs": [
    {
     "data": {
      "text/html": [
       "<table>\n",
       "<thead><tr><th scope=col>unit</th><th scope=col>vehicle</th><th scope=col>geo</th><th scope=col>time</th><th scope=col>values</th></tr></thead>\n",
       "<tbody>\n",
       "\t<tr><td>Percentage                                      </td><td>Motor coaches, buses and trolley buses          </td><td>Austria                                         </td><td>1990                                            </td><td>11.0                                            </td></tr>\n",
       "\t<tr><td>Percentage                                      </td><td>Motor coaches, buses and trolley buses          </td><td>Belgium                                         </td><td>1990                                            </td><td>10.6                                            </td></tr>\n",
       "\t<tr><td>Percentage                                      </td><td>Motor coaches, buses and trolley buses          </td><td>Switzerland                                     </td><td>1990                                            </td><td> 3.7                                            </td></tr>\n",
       "\t<tr><td>Percentage                                      </td><td>Motor coaches, buses and trolley buses          </td><td>Germany (until 1990 former territory of the FRG)</td><td>1990                                            </td><td> 9.1                                            </td></tr>\n",
       "\t<tr><td>Percentage                                      </td><td>Motor coaches, buses and trolley buses          </td><td>Denmark                                         </td><td>1990                                            </td><td>11.3                                            </td></tr>\n",
       "\t<tr><td>Percentage                                      </td><td>Motor coaches, buses and trolley buses          </td><td>Greece                                          </td><td>1990                                            </td><td>32.4                                            </td></tr>\n",
       "</tbody>\n",
       "</table>\n"
      ],
      "text/latex": [
       "\\begin{tabular}{r|lllll}\n",
       " unit & vehicle & geo & time & values\\\\\n",
       "\\hline\n",
       "\t Percentage                                       & Motor coaches, buses and trolley buses           & Austria                                          & 1990                                             & 11.0                                            \\\\\n",
       "\t Percentage                                       & Motor coaches, buses and trolley buses           & Belgium                                          & 1990                                             & 10.6                                            \\\\\n",
       "\t Percentage                                       & Motor coaches, buses and trolley buses           & Switzerland                                      & 1990                                             &  3.7                                            \\\\\n",
       "\t Percentage                                       & Motor coaches, buses and trolley buses           & Germany (until 1990 former territory of the FRG) & 1990                                             &  9.1                                            \\\\\n",
       "\t Percentage                                       & Motor coaches, buses and trolley buses           & Denmark                                          & 1990                                             & 11.3                                            \\\\\n",
       "\t Percentage                                       & Motor coaches, buses and trolley buses           & Greece                                           & 1990                                             & 32.4                                            \\\\\n",
       "\\end{tabular}\n"
      ],
      "text/markdown": [
       "\n",
       "unit | vehicle | geo | time | values | \n",
       "|---|---|---|---|---|---|\n",
       "| Percentage                                       | Motor coaches, buses and trolley buses           | Austria                                          | 1990                                             | 11.0                                             | \n",
       "| Percentage                                       | Motor coaches, buses and trolley buses           | Belgium                                          | 1990                                             | 10.6                                             | \n",
       "| Percentage                                       | Motor coaches, buses and trolley buses           | Switzerland                                      | 1990                                             |  3.7                                             | \n",
       "| Percentage                                       | Motor coaches, buses and trolley buses           | Germany (until 1990 former territory of the FRG) | 1990                                             |  9.1                                             | \n",
       "| Percentage                                       | Motor coaches, buses and trolley buses           | Denmark                                          | 1990                                             | 11.3                                             | \n",
       "| Percentage                                       | Motor coaches, buses and trolley buses           | Greece                                           | 1990                                             | 32.4                                             | \n",
       "\n",
       "\n"
      ],
      "text/plain": [
       "  unit       vehicle                               \n",
       "1 Percentage Motor coaches, buses and trolley buses\n",
       "2 Percentage Motor coaches, buses and trolley buses\n",
       "3 Percentage Motor coaches, buses and trolley buses\n",
       "4 Percentage Motor coaches, buses and trolley buses\n",
       "5 Percentage Motor coaches, buses and trolley buses\n",
       "6 Percentage Motor coaches, buses and trolley buses\n",
       "  geo                                              time values\n",
       "1 Austria                                          1990 11.0  \n",
       "2 Belgium                                          1990 10.6  \n",
       "3 Switzerland                                      1990  3.7  \n",
       "4 Germany (until 1990 former territory of the FRG) 1990  9.1  \n",
       "5 Denmark                                          1990 11.3  \n",
       "6 Greece                                           1990 32.4  "
      ]
     },
     "metadata": {},
     "output_type": "display_data"
    }
   ],
   "source": [
    "datl <- label_eurostat(dat)\n",
    "head(datl)"
   ]
  },
  {
   "cell_type": "code",
   "execution_count": 27,
   "metadata": {},
   "outputs": [
    {
     "data": {
      "text/html": [
       "<ol class=list-inline>\n",
       "\t<li>'Unit of measure'</li>\n",
       "\t<li>'Vehicles'</li>\n",
       "\t<li>'Geopolitical entity (reporting)'</li>\n",
       "\t<li>'Period of time (a=annual, q=quarterly, m=monthly, d=daily, c=cumulated from January)'</li>\n",
       "</ol>\n"
      ],
      "text/latex": [
       "\\begin{enumerate*}\n",
       "\\item 'Unit of measure'\n",
       "\\item 'Vehicles'\n",
       "\\item 'Geopolitical entity (reporting)'\n",
       "\\item 'Period of time (a=annual, q=quarterly, m=monthly, d=daily, c=cumulated from January)'\n",
       "\\end{enumerate*}\n"
      ],
      "text/markdown": [
       "1. 'Unit of measure'\n",
       "2. 'Vehicles'\n",
       "3. 'Geopolitical entity (reporting)'\n",
       "4. 'Period of time (a=annual, q=quarterly, m=monthly, d=daily, c=cumulated from January)'\n",
       "\n",
       "\n"
      ],
      "text/plain": [
       "[1] \"Unit of measure\"                                                                     \n",
       "[2] \"Vehicles\"                                                                            \n",
       "[3] \"Geopolitical entity (reporting)\"                                                     \n",
       "[4] \"Period of time (a=annual, q=quarterly, m=monthly, d=daily, c=cumulated from January)\""
      ]
     },
     "metadata": {},
     "output_type": "display_data"
    },
    {
     "data": {
      "text/html": [
       "<ol class=list-inline>\n",
       "\t<li>'Motor coaches, buses and trolley buses'</li>\n",
       "\t<li>'Passenger cars'</li>\n",
       "\t<li>'Trains'</li>\n",
       "</ol>\n"
      ],
      "text/latex": [
       "\\begin{enumerate*}\n",
       "\\item 'Motor coaches, buses and trolley buses'\n",
       "\\item 'Passenger cars'\n",
       "\\item 'Trains'\n",
       "\\end{enumerate*}\n"
      ],
      "text/markdown": [
       "1. 'Motor coaches, buses and trolley buses'\n",
       "2. 'Passenger cars'\n",
       "3. 'Trains'\n",
       "\n",
       "\n"
      ],
      "text/plain": [
       "[1] \"Motor coaches, buses and trolley buses\"\n",
       "[2] \"Passenger cars\"                        \n",
       "[3] \"Trains\"                                "
      ]
     },
     "metadata": {},
     "output_type": "display_data"
    }
   ],
   "source": [
    "label_eurostat_vars(names(datl))\n",
    "levels(datl$vehicle)"
   ]
  },
  {
   "cell_type": "markdown",
   "metadata": {},
   "source": [
    "### Selecting and modifying data\n",
    "\n",
    "**EFTA, Eurozone, EU and EU candidate countries**"
   ]
  },
  {
   "cell_type": "code",
   "execution_count": 29,
   "metadata": {},
   "outputs": [
    {
     "data": {
      "text/html": [
       "<table>\n",
       "<thead><tr><th scope=col>code</th><th scope=col>name</th></tr></thead>\n",
       "<tbody>\n",
       "\t<tr><td>IS           </td><td>Iceland      </td></tr>\n",
       "\t<tr><td>LI           </td><td>Liechtenstein</td></tr>\n",
       "\t<tr><td>NO           </td><td>Norway       </td></tr>\n",
       "\t<tr><td>CH           </td><td>Switzerland  </td></tr>\n",
       "</tbody>\n",
       "</table>\n"
      ],
      "text/latex": [
       "\\begin{tabular}{r|ll}\n",
       " code & name\\\\\n",
       "\\hline\n",
       "\t IS            & Iceland      \\\\\n",
       "\t LI            & Liechtenstein\\\\\n",
       "\t NO            & Norway       \\\\\n",
       "\t CH            & Switzerland  \\\\\n",
       "\\end{tabular}\n"
      ],
      "text/markdown": [
       "\n",
       "code | name | \n",
       "|---|---|---|---|\n",
       "| IS            | Iceland       | \n",
       "| LI            | Liechtenstein | \n",
       "| NO            | Norway        | \n",
       "| CH            | Switzerland   | \n",
       "\n",
       "\n"
      ],
      "text/plain": [
       "  code name         \n",
       "1 IS   Iceland      \n",
       "2 LI   Liechtenstein\n",
       "3 NO   Norway       \n",
       "4 CH   Switzerland  "
      ]
     },
     "metadata": {},
     "output_type": "display_data"
    }
   ],
   "source": [
    "data(efta_countries)\n",
    "efta_countries"
   ]
  },
  {
   "cell_type": "markdown",
   "metadata": {},
   "source": [
    "**EU data from 2012 in all vehicles**"
   ]
  },
  {
   "cell_type": "code",
   "execution_count": 33,
   "metadata": {},
   "outputs": [
    {
     "data": {
      "text/html": [
       "<table>\n",
       "<thead><tr><th scope=col>unit</th><th scope=col>vehicle</th><th scope=col>geo</th><th scope=col>time</th><th scope=col>values</th></tr></thead>\n",
       "<tbody>\n",
       "\t<tr><td>Percentage                            </td><td>Motor coaches, buses and trolley buses</td><td>European Union (current composition)  </td><td>2012                                  </td><td> 9.5                                  </td></tr>\n",
       "\t<tr><td>Percentage                            </td><td>Passenger cars                        </td><td>European Union (current composition)  </td><td>2012                                  </td><td>82.9                                  </td></tr>\n",
       "\t<tr><td>Percentage                            </td><td>Trains                                </td><td>European Union (current composition)  </td><td>2012                                  </td><td> 7.7                                  </td></tr>\n",
       "</tbody>\n",
       "</table>\n"
      ],
      "text/latex": [
       "\\begin{tabular}{r|lllll}\n",
       " unit & vehicle & geo & time & values\\\\\n",
       "\\hline\n",
       "\t Percentage                             & Motor coaches, buses and trolley buses & European Union (current composition)   & 2012                                   &  9.5                                  \\\\\n",
       "\t Percentage                             & Passenger cars                         & European Union (current composition)   & 2012                                   & 82.9                                  \\\\\n",
       "\t Percentage                             & Trains                                 & European Union (current composition)   & 2012                                   &  7.7                                  \\\\\n",
       "\\end{tabular}\n"
      ],
      "text/markdown": [
       "\n",
       "unit | vehicle | geo | time | values | \n",
       "|---|---|---|\n",
       "| Percentage                             | Motor coaches, buses and trolley buses | European Union (current composition)   | 2012                                   |  9.5                                   | \n",
       "| Percentage                             | Passenger cars                         | European Union (current composition)   | 2012                                   | 82.9                                   | \n",
       "| Percentage                             | Trains                                 | European Union (current composition)   | 2012                                   |  7.7                                   | \n",
       "\n",
       "\n"
      ],
      "text/plain": [
       "  unit       vehicle                               \n",
       "1 Percentage Motor coaches, buses and trolley buses\n",
       "2 Percentage Passenger cars                        \n",
       "3 Percentage Trains                                \n",
       "  geo                                  time values\n",
       "1 European Union (current composition) 2012  9.5  \n",
       "2 European Union (current composition) 2012 82.9  \n",
       "3 European Union (current composition) 2012  7.7  "
      ]
     },
     "metadata": {},
     "output_type": "display_data"
    }
   ],
   "source": [
    "dat_eu12 <-subset(datl, geo==\"European Union (current composition)\" & time==2012)\n",
    "dat_eu12"
   ]
  },
  {
   "cell_type": "markdown",
   "metadata": {},
   "source": [
    "**EU data from 2000 - 2012 with vehicle types as variables**"
   ]
  },
  {
   "cell_type": "code",
   "execution_count": 35,
   "metadata": {},
   "outputs": [
    {
     "data": {
      "text/html": [
       "<table>\n",
       "<thead><tr><th scope=col>unit</th><th scope=col>time</th><th scope=col>BUS_TOT</th><th scope=col>CAR</th><th scope=col>TRN</th></tr></thead>\n",
       "<tbody>\n",
       "\t<tr><td>PC  </td><td>2000</td><td>10.4</td><td>82.4</td><td>7.2 </td></tr>\n",
       "\t<tr><td>PC  </td><td>2001</td><td>10.2</td><td>82.7</td><td>7.1 </td></tr>\n",
       "\t<tr><td>PC  </td><td>2002</td><td> 9.9</td><td>83.3</td><td>6.8 </td></tr>\n",
       "\t<tr><td>PC  </td><td>2003</td><td> 9.9</td><td>83.5</td><td>6.7 </td></tr>\n",
       "\t<tr><td>PC  </td><td>2004</td><td> 9.8</td><td>83.4</td><td>6.8 </td></tr>\n",
       "\t<tr><td>PC  </td><td>2005</td><td> 9.8</td><td>83.3</td><td>6.9 </td></tr>\n",
       "\t<tr><td>PC  </td><td>2006</td><td> 9.7</td><td>83.2</td><td>7.1 </td></tr>\n",
       "\t<tr><td>PC  </td><td>2007</td><td> 9.8</td><td>83.1</td><td>7.1 </td></tr>\n",
       "\t<tr><td>PC  </td><td>2008</td><td> 9.9</td><td>82.8</td><td>7.4 </td></tr>\n",
       "\t<tr><td>PC  </td><td>2009</td><td> 9.3</td><td>83.6</td><td>7.1 </td></tr>\n",
       "\t<tr><td>PC  </td><td>2010</td><td> 9.4</td><td>83.4</td><td>7.2 </td></tr>\n",
       "\t<tr><td>PC  </td><td>2011</td><td> 9.4</td><td>83.2</td><td>7.4 </td></tr>\n",
       "\t<tr><td>PC  </td><td>2012</td><td> 9.5</td><td>82.9</td><td>7.7 </td></tr>\n",
       "</tbody>\n",
       "</table>\n"
      ],
      "text/latex": [
       "\\begin{tabular}{r|lllll}\n",
       " unit & time & BUS\\_TOT & CAR & TRN\\\\\n",
       "\\hline\n",
       "\t PC   & 2000 & 10.4 & 82.4 & 7.2 \\\\\n",
       "\t PC   & 2001 & 10.2 & 82.7 & 7.1 \\\\\n",
       "\t PC   & 2002 &  9.9 & 83.3 & 6.8 \\\\\n",
       "\t PC   & 2003 &  9.9 & 83.5 & 6.7 \\\\\n",
       "\t PC   & 2004 &  9.8 & 83.4 & 6.8 \\\\\n",
       "\t PC   & 2005 &  9.8 & 83.3 & 6.9 \\\\\n",
       "\t PC   & 2006 &  9.7 & 83.2 & 7.1 \\\\\n",
       "\t PC   & 2007 &  9.8 & 83.1 & 7.1 \\\\\n",
       "\t PC   & 2008 &  9.9 & 82.8 & 7.4 \\\\\n",
       "\t PC   & 2009 &  9.3 & 83.6 & 7.1 \\\\\n",
       "\t PC   & 2010 &  9.4 & 83.4 & 7.2 \\\\\n",
       "\t PC   & 2011 &  9.4 & 83.2 & 7.4 \\\\\n",
       "\t PC   & 2012 &  9.5 & 82.9 & 7.7 \\\\\n",
       "\\end{tabular}\n"
      ],
      "text/markdown": [
       "\n",
       "unit | time | BUS_TOT | CAR | TRN | \n",
       "|---|---|---|---|---|---|---|---|---|---|---|---|---|\n",
       "| PC   | 2000 | 10.4 | 82.4 | 7.2  | \n",
       "| PC   | 2001 | 10.2 | 82.7 | 7.1  | \n",
       "| PC   | 2002 |  9.9 | 83.3 | 6.8  | \n",
       "| PC   | 2003 |  9.9 | 83.5 | 6.7  | \n",
       "| PC   | 2004 |  9.8 | 83.4 | 6.8  | \n",
       "| PC   | 2005 |  9.8 | 83.3 | 6.9  | \n",
       "| PC   | 2006 |  9.7 | 83.2 | 7.1  | \n",
       "| PC   | 2007 |  9.8 | 83.1 | 7.1  | \n",
       "| PC   | 2008 |  9.9 | 82.8 | 7.4  | \n",
       "| PC   | 2009 |  9.3 | 83.6 | 7.1  | \n",
       "| PC   | 2010 |  9.4 | 83.4 | 7.2  | \n",
       "| PC   | 2011 |  9.4 | 83.2 | 7.4  | \n",
       "| PC   | 2012 |  9.5 | 82.9 | 7.7  | \n",
       "\n",
       "\n"
      ],
      "text/plain": [
       "   unit time BUS_TOT CAR  TRN\n",
       "1  PC   2000 10.4    82.4 7.2\n",
       "2  PC   2001 10.2    82.7 7.1\n",
       "3  PC   2002  9.9    83.3 6.8\n",
       "4  PC   2003  9.9    83.5 6.7\n",
       "5  PC   2004  9.8    83.4 6.8\n",
       "6  PC   2005  9.8    83.3 6.9\n",
       "7  PC   2006  9.7    83.2 7.1\n",
       "8  PC   2007  9.8    83.1 7.1\n",
       "9  PC   2008  9.9    82.8 7.4\n",
       "10 PC   2009  9.3    83.6 7.1\n",
       "11 PC   2010  9.4    83.4 7.2\n",
       "12 PC   2011  9.4    83.2 7.4\n",
       "13 PC   2012  9.5    82.9 7.7"
      ]
     },
     "metadata": {},
     "output_type": "display_data"
    }
   ],
   "source": [
    "library(\"tidyr\")\n",
    "dat_eu_0012 <- subset(dat, geo == \"EU28\" & time %in% 2000:2012)\n",
    "dat_eu_0012_wide <- spread(dat_eu_0012, vehicle, values)\n",
    "subset(dat_eu_0012_wide, select = -geo)"
   ]
  },
  {
   "cell_type": "markdown",
   "metadata": {},
   "source": [
    "**Train passengers for selected EU countries in 2000 - 2012**"
   ]
  },
  {
   "cell_type": "code",
   "execution_count": 36,
   "metadata": {},
   "outputs": [
    {
     "data": {
      "text/html": [
       "<table>\n",
       "<thead><tr><th scope=col>unit</th><th scope=col>time</th><th scope=col>Austria</th><th scope=col>Belgium</th><th scope=col>Finland</th><th scope=col>Sweden</th></tr></thead>\n",
       "<tbody>\n",
       "\t<tr><td>Percentage</td><td>2000      </td><td> 9.7      </td><td>6.3       </td><td>5.1       </td><td>6.8       </td></tr>\n",
       "\t<tr><td>Percentage</td><td>2001      </td><td> 9.7      </td><td>6.4       </td><td>4.8       </td><td>7.1       </td></tr>\n",
       "\t<tr><td>Percentage</td><td>2002      </td><td> 9.7      </td><td>6.5       </td><td>4.8       </td><td>7.1       </td></tr>\n",
       "\t<tr><td>Percentage</td><td>2003      </td><td> 9.5      </td><td>6.5       </td><td>4.7       </td><td>7.0       </td></tr>\n",
       "\t<tr><td>Percentage</td><td>2004      </td><td> 9.4      </td><td>7.1       </td><td>4.7       </td><td>6.8       </td></tr>\n",
       "\t<tr><td>Percentage</td><td>2005      </td><td> 9.8      </td><td>6.6       </td><td>4.8       </td><td>7.1       </td></tr>\n",
       "\t<tr><td>Percentage</td><td>2006      </td><td>10.0      </td><td>6.9       </td><td>4.8       </td><td>7.6       </td></tr>\n",
       "\t<tr><td>Percentage</td><td>2007      </td><td>10.0      </td><td>7.1       </td><td>5.0       </td><td>7.9       </td></tr>\n",
       "\t<tr><td>Percentage</td><td>2008      </td><td>11.1      </td><td>7.5       </td><td>5.4       </td><td>8.6       </td></tr>\n",
       "\t<tr><td>Percentage</td><td>2009      </td><td>11.1      </td><td>7.5       </td><td>5.1       </td><td>8.7       </td></tr>\n",
       "\t<tr><td>Percentage</td><td>2010      </td><td>11.0      </td><td>7.7       </td><td>5.2       </td><td>8.7       </td></tr>\n",
       "\t<tr><td>Percentage</td><td>2011      </td><td>11.3      </td><td>7.7       </td><td>5.0       </td><td>8.7       </td></tr>\n",
       "\t<tr><td>Percentage</td><td>2012      </td><td>11.8      </td><td>7.8       </td><td>5.3       </td><td>9.1       </td></tr>\n",
       "</tbody>\n",
       "</table>\n"
      ],
      "text/latex": [
       "\\begin{tabular}{r|llllll}\n",
       " unit & time & Austria & Belgium & Finland & Sweden\\\\\n",
       "\\hline\n",
       "\t Percentage & 2000       &  9.7       & 6.3        & 5.1        & 6.8       \\\\\n",
       "\t Percentage & 2001       &  9.7       & 6.4        & 4.8        & 7.1       \\\\\n",
       "\t Percentage & 2002       &  9.7       & 6.5        & 4.8        & 7.1       \\\\\n",
       "\t Percentage & 2003       &  9.5       & 6.5        & 4.7        & 7.0       \\\\\n",
       "\t Percentage & 2004       &  9.4       & 7.1        & 4.7        & 6.8       \\\\\n",
       "\t Percentage & 2005       &  9.8       & 6.6        & 4.8        & 7.1       \\\\\n",
       "\t Percentage & 2006       & 10.0       & 6.9        & 4.8        & 7.6       \\\\\n",
       "\t Percentage & 2007       & 10.0       & 7.1        & 5.0        & 7.9       \\\\\n",
       "\t Percentage & 2008       & 11.1       & 7.5        & 5.4        & 8.6       \\\\\n",
       "\t Percentage & 2009       & 11.1       & 7.5        & 5.1        & 8.7       \\\\\n",
       "\t Percentage & 2010       & 11.0       & 7.7        & 5.2        & 8.7       \\\\\n",
       "\t Percentage & 2011       & 11.3       & 7.7        & 5.0        & 8.7       \\\\\n",
       "\t Percentage & 2012       & 11.8       & 7.8        & 5.3        & 9.1       \\\\\n",
       "\\end{tabular}\n"
      ],
      "text/markdown": [
       "\n",
       "unit | time | Austria | Belgium | Finland | Sweden | \n",
       "|---|---|---|---|---|---|---|---|---|---|---|---|---|\n",
       "| Percentage | 2000       |  9.7       | 6.3        | 5.1        | 6.8        | \n",
       "| Percentage | 2001       |  9.7       | 6.4        | 4.8        | 7.1        | \n",
       "| Percentage | 2002       |  9.7       | 6.5        | 4.8        | 7.1        | \n",
       "| Percentage | 2003       |  9.5       | 6.5        | 4.7        | 7.0        | \n",
       "| Percentage | 2004       |  9.4       | 7.1        | 4.7        | 6.8        | \n",
       "| Percentage | 2005       |  9.8       | 6.6        | 4.8        | 7.1        | \n",
       "| Percentage | 2006       | 10.0       | 6.9        | 4.8        | 7.6        | \n",
       "| Percentage | 2007       | 10.0       | 7.1        | 5.0        | 7.9        | \n",
       "| Percentage | 2008       | 11.1       | 7.5        | 5.4        | 8.6        | \n",
       "| Percentage | 2009       | 11.1       | 7.5        | 5.1        | 8.7        | \n",
       "| Percentage | 2010       | 11.0       | 7.7        | 5.2        | 8.7        | \n",
       "| Percentage | 2011       | 11.3       | 7.7        | 5.0        | 8.7        | \n",
       "| Percentage | 2012       | 11.8       | 7.8        | 5.3        | 9.1        | \n",
       "\n",
       "\n"
      ],
      "text/plain": [
       "   unit       time Austria Belgium Finland Sweden\n",
       "1  Percentage 2000  9.7    6.3     5.1     6.8   \n",
       "2  Percentage 2001  9.7    6.4     4.8     7.1   \n",
       "3  Percentage 2002  9.7    6.5     4.8     7.1   \n",
       "4  Percentage 2003  9.5    6.5     4.7     7.0   \n",
       "5  Percentage 2004  9.4    7.1     4.7     6.8   \n",
       "6  Percentage 2005  9.8    6.6     4.8     7.1   \n",
       "7  Percentage 2006 10.0    6.9     4.8     7.6   \n",
       "8  Percentage 2007 10.0    7.1     5.0     7.9   \n",
       "9  Percentage 2008 11.1    7.5     5.4     8.6   \n",
       "10 Percentage 2009 11.1    7.5     5.1     8.7   \n",
       "11 Percentage 2010 11.0    7.7     5.2     8.7   \n",
       "12 Percentage 2011 11.3    7.7     5.0     8.7   \n",
       "13 Percentage 2012 11.8    7.8     5.3     9.1   "
      ]
     },
     "metadata": {},
     "output_type": "display_data"
    }
   ],
   "source": [
    "dat_trains <- subset(datl, geo %in% c(\"Austria\", \"Belgium\", \"Finland\", \"Sweden\") & time %in% 2000:2012 & vehicle == \"Trains\")\n",
    "dat_trains_wide <- spread(dat_trains, geo, values)\n",
    "subset (dat_trains_wide, select = - vehicle)"
   ]
  },
  {
   "cell_type": "markdown",
   "metadata": {},
   "source": [
    "**Visualization**"
   ]
  },
  {
   "cell_type": "code",
   "execution_count": 37,
   "metadata": {},
   "outputs": [
    {
     "data": {
      "image/png": "[encoded data removed]",
      "text/plain": [
       "plot without title"
      ]
     },
     "metadata": {},
     "output_type": "display_data"
    }
   ],
   "source": [
    "library(ggplot2)\n",
    "p <- ggplot (dat_trains, aes( x = time, y = values, colour = geo))\n",
    "p <- p + geom_line()\n",
    "print(p)"
   ]
  },
  {
   "cell_type": "code",
   "execution_count": 38,
   "metadata": {},
   "outputs": [
    {
     "ename": "ERROR",
     "evalue": "Error in library(plotrix): there is no package called ‘plotrix’\n",
     "output_type": "error",
     "traceback": [
      "Error in library(plotrix): there is no package called ‘plotrix’\nTraceback:\n",
      "1. library(plotrix)",
      "2. stop(txt, domain = NA)"
     ]
    }
   ],
   "source": [
    "library(tidyr)\n",
    "library(plotrix)\n",
    "library(dplyr)\n",
    "library(tidyr)"
   ]
  },
  {
   "cell_type": "code",
   "execution_count": 2,
   "metadata": {},
   "outputs": [],
   "source": [
    "query <- search_eurostat(\"road accidents\", type = \"table\")"
   ]
  },
  {
   "cell_type": "code",
   "execution_count": 3,
   "metadata": {},
   "outputs": [
    {
     "data": {
      "text/html": [
       "'sdg_11_40'"
      ],
      "text/latex": [
       "'sdg\\_11\\_40'"
      ],
      "text/markdown": [
       "'sdg_11_40'"
      ],
      "text/plain": [
       "[1] \"sdg_11_40\""
      ]
     },
     "metadata": {},
     "output_type": "display_data"
    },
    {
     "data": {
      "text/html": [
       "'People killed in road accidents (source: DG MOVE)'"
      ],
      "text/latex": [
       "'People killed in road accidents (source: DG MOVE)'"
      ],
      "text/markdown": [
       "'People killed in road accidents (source: DG MOVE)'"
      ],
      "text/plain": [
       "[1] \"People killed in road accidents (source: DG MOVE)\""
      ]
     },
     "metadata": {},
     "output_type": "display_data"
    }
   ],
   "source": [
    "query$code[[1]]\n",
    "query$title[[1]]"
   ]
  },
  {
   "cell_type": "markdown",
   "metadata": {},
   "source": [
    "Note that the table `tsdtr420` mentioned in the original paper has been discontinued (see for instance this [archive](https://ec.europa.eu/eurostat/statistics-explained/index.php?oldid=54178)), it has been replaced with a dedicated [EU SDG](https://ec.europa.eu/eurostat/statistics-explained/index.php/SDG_11_-_Sustainable_cities_and_communities_(statistical_annex)) indicator, namely `sdg_11_40` ([this table](https://ec.europa.eu/eurostat/web/products-datasets/-/sdg_11_40))."
   ]
  },
  {
   "cell_type": "code",
   "execution_count": 8,
   "metadata": {},
   "outputs": [
    {
     "name": "stderr",
     "output_type": "stream",
     "text": [
      "Reading cache file /tmp/RtmpUWoDHX/eurostat/sdg_11_40_num_code_TF.rds\n",
      "Table  sdg_11_40  read from cache file:  /tmp/RtmpUWoDHX/eurostat/sdg_11_40_num_code_TF.rds\n"
     ]
    },
    {
     "data": {
      "text/html": [
       "<table>\n",
       "<thead><tr><th scope=col>unit</th><th scope=col>geo</th><th scope=col>time</th><th scope=col>values</th></tr></thead>\n",
       "<tbody>\n",
       "\t<tr><td>NR  </td><td>AT  </td><td>2001</td><td> 958</td></tr>\n",
       "\t<tr><td>NR  </td><td>BE  </td><td>2001</td><td>1486</td></tr>\n",
       "\t<tr><td>NR  </td><td>BG  </td><td>2001</td><td>1011</td></tr>\n",
       "\t<tr><td>NR  </td><td>CY  </td><td>2001</td><td>  98</td></tr>\n",
       "\t<tr><td>NR  </td><td>CZ  </td><td>2001</td><td>1333</td></tr>\n",
       "\t<tr><td>NR  </td><td>DE  </td><td>2001</td><td>6977</td></tr>\n",
       "</tbody>\n",
       "</table>\n"
      ],
      "text/latex": [
       "\\begin{tabular}{r|llll}\n",
       " unit & geo & time & values\\\\\n",
       "\\hline\n",
       "\t NR   & AT   & 2001 &  958\\\\\n",
       "\t NR   & BE   & 2001 & 1486\\\\\n",
       "\t NR   & BG   & 2001 & 1011\\\\\n",
       "\t NR   & CY   & 2001 &   98\\\\\n",
       "\t NR   & CZ   & 2001 & 1333\\\\\n",
       "\t NR   & DE   & 2001 & 6977\\\\\n",
       "\\end{tabular}\n"
      ],
      "text/markdown": [
       "\n",
       "unit | geo | time | values | \n",
       "|---|---|---|---|---|---|\n",
       "| NR   | AT   | 2001 |  958 | \n",
       "| NR   | BE   | 2001 | 1486 | \n",
       "| NR   | BG   | 2001 | 1011 | \n",
       "| NR   | CY   | 2001 |   98 | \n",
       "| NR   | CZ   | 2001 | 1333 | \n",
       "| NR   | DE   | 2001 | 6977 | \n",
       "\n",
       "\n"
      ],
      "text/plain": [
       "  unit geo time values\n",
       "1 NR   AT  2001  958  \n",
       "2 NR   BE  2001 1486  \n",
       "3 NR   BG  2001 1011  \n",
       "4 NR   CY  2001   98  \n",
       "5 NR   CZ  2001 1333  \n",
       "6 NR   DE  2001 6977  "
      ]
     },
     "metadata": {},
     "output_type": "display_data"
    }
   ],
   "source": [
    "dat <- get_eurostat(id = \"sdg_11_40\", time_format = \"num\")\n",
    "head(dat)"
   ]
  },
  {
   "cell_type": "markdown",
   "metadata": {},
   "source": [
    "We can still run similar operations:"
   ]
  },
  {
   "cell_type": "code",
   "execution_count": 6,
   "metadata": {},
   "outputs": [],
   "source": [
    "countries <- c(\"UK\", \"SK\", \"FR\", \"PL\", \"ES\", \"PT\")\n",
    "t1 <- get_eurostat(\"sdg_11_40\", filters = list(geo = countries))"
   ]
  },
  {
   "cell_type": "code",
   "execution_count": 12,
   "metadata": {},
   "outputs": [
    {
     "ename": "ERROR",
     "evalue": "Error in loadNamespace(name): there is no package called ‘ggrepel’\n",
     "output_type": "error",
     "traceback": [
      "Error in loadNamespace(name): there is no package called ‘ggrepel’\nTraceback:\n",
      "1. ggrepel::geom_label_repel",
      "2. getExportedValue(pkg, name)",
      "3. asNamespace(ns)",
      "4. getNamespace(ns)",
      "5. tryCatch(loadNamespace(name), error = function(e) stop(e))",
      "6. tryCatchList(expr, classes, parentenv, handlers)",
      "7. tryCatchOne(expr, names, parentenv, handlers[[1L]])",
      "8. value[[3L]](cond)"
     ]
    }
   ],
   "source": [
    "library(\"ggplot2\")\n",
    "library(\"ggrepel\")\n",
    "ggplot(t1, aes(x = time, y = values, color = geo, group = geo, shape = geo)) +\n",
    "    geom_point(size = 4) + geom_line() + theme_bw() +\n",
    "    ggtitle(\"Road accidents\") + xlab(\"Year\") + ylab(\"Victims (n)\") +\n",
    "    theme(legend.position = \"none\") +\n",
    "    ggrepel::geom_label_repel(data = t1 %>% group_by(geo) %>% na.omit() %>%\n",
    "    filter(time %in% c(min(time), max(time))), aes(fill = geo, label = geo), color = \"white\")"
   ]
  },
  {
   "cell_type": "code",
   "execution_count": null,
   "metadata": {},
   "outputs": [],
   "source": []
  }
 ],
 "metadata": {
  "kernelspec": {
   "display_name": "R",
   "language": "R",
   "name": "ir"
  },
  "language_info": {
   "codemirror_mode": "r",
   "file_extension": ".r",
   "mimetype": "text/x-r-source",
   "name": "R",
   "pygments_lexer": "r",
   "version": "3.4.4"
  }
 },
 "nbformat": 4,
 "nbformat_minor": 2
}
